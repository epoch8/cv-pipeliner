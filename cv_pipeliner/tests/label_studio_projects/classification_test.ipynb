version https://git-lfs.github.com/spec/v1
oid sha256:780417a1259be9f158b9bffa85ed0cbc5e2abea76ecc1f3f1e60ded8ad9adba7
size 8905
