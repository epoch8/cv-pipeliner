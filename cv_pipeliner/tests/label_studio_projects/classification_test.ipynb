version https://git-lfs.github.com/spec/v1
oid sha256:b1b8828fd173ff12872d1df69cfa1427f977661cc132ad28568385ddd02a2076
size 7989
