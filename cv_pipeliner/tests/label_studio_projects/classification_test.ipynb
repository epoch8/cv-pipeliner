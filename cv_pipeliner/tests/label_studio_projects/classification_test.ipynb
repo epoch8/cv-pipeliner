version https://git-lfs.github.com/spec/v1
oid sha256:04fd8a44021b6670d3a2444e33d7c2cf6f2e0888fae39fc5aed423a0f492e27a
size 12923
