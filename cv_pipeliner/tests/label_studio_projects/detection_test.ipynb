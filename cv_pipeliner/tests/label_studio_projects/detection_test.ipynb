version https://git-lfs.github.com/spec/v1
oid sha256:bfb602988a3c6f56aeaac20700e02240ba8121fcd54730aafa83d73dd03b167d
size 13855
