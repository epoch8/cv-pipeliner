version https://git-lfs.github.com/spec/v1
oid sha256:3fa4b295f26941e8d977c4575c7a331e2524a2ee308344b1b9663a7255e74b5b
size 1065
